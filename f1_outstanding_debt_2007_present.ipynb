{
 "cells": [
  {
   "cell_type": "code",
   "execution_count": 1,
   "id": "f0dc9a05-bee6-4c9b-9ab9-294396b5776e",
   "metadata": {},
   "outputs": [
    {
     "data": {
      "text/html": [
       "<style>div.jp-Notebook .datagrid-container {min-height: 448px; }</style>"
      ],
      "text/plain": [
       "<IPython.core.display.HTML object>"
      ]
     },
     "metadata": {},
     "output_type": "display_data"
    }
   ],
   "source": [
    "*mkdir data\n",
    "*mkdir figures"
   ]
  },
  {
   "cell_type": "code",
   "execution_count": 2,
   "id": "cf827460-89f0-4b38-8522-3c198cb465b8",
   "metadata": {},
   "outputs": [],
   "source": [
    "copy \"https://studentaid.gov/sites/default/files/fsawg/datacenter/library/PortfolioSummary.xls\" ///\n",
    "data/PortfolioSummary.xls, replace"
   ]
  },
  {
   "cell_type": "code",
   "execution_count": 3,
   "id": "0be3a9c3-79e2-4d46-8c1e-d75a9a172e3e",
   "metadata": {},
   "outputs": [
    {
     "name": "stdout",
     "output_type": "stream",
     "text": [
      "(2 vars, 50 obs)\n"
     ]
    }
   ],
   "source": [
    "import excel using data/PortfolioSummary.xls, cellrange(I7:J56) clear"
   ]
  },
  {
   "cell_type": "code",
   "execution_count": 4,
   "id": "d1db11b2-8710-4dd2-bf8a-f07a2e3953ec",
   "metadata": {},
   "outputs": [],
   "source": [
    "rename I outstanding_b\n",
    "rename J borrowers"
   ]
  },
  {
   "cell_type": "code",
   "execution_count": 5,
   "id": "b39960f6-7fed-47e4-ba4e-6eef554170ad",
   "metadata": {},
   "outputs": [
    {
     "name": "stdout",
     "output_type": "stream",
     "text": [
      "(6 missing values generated)\n"
     ]
    }
   ],
   "source": [
    "gen quarter=_n-6 if _n>6"
   ]
  },
  {
   "cell_type": "code",
   "execution_count": 6,
   "id": "8e5a9cde-9481-4245-9281-07dc9df5fa86",
   "metadata": {},
   "outputs": [],
   "source": [
    "qui gen keep=1 if _n<7\n",
    "\n",
    "forvalues q = 4(4)44 {\n",
    "   qui replace keep=1 if quarter==`q'\n",
    "}"
   ]
  },
  {
   "cell_type": "code",
   "execution_count": 7,
   "id": "215f2783-7bab-47e5-a3c4-4f14de6d1f59",
   "metadata": {},
   "outputs": [
    {
     "name": "stdout",
     "output_type": "stream",
     "text": [
      "(33 observations deleted)\n"
     ]
    }
   ],
   "source": [
    "keep if keep==1"
   ]
  },
  {
   "cell_type": "code",
   "execution_count": 8,
   "id": "7c9e6902-94c4-4bbe-b398-7b6d98f9c7fa",
   "metadata": {},
   "outputs": [],
   "source": [
    "gen year = 2006 + _n"
   ]
  },
  {
   "cell_type": "code",
   "execution_count": 9,
   "id": "fcc7df09-badf-43ed-aca7-d4cf6762e9be",
   "metadata": {},
   "outputs": [],
   "source": [
    "qui { \n",
    "    gen cpi_factor=304.702/304.702 if year==2023\n",
    "    replace cpi_factor= 292.655/ 304.702 if year==2022\n",
    "    replace cpi_factor= 270.970/ 304.702 if year==2021\n",
    "    replace cpi_factor= 258.811/ 304.702 if year==2020\n",
    "    replace cpi_factor= 255.657/ 304.702 if year==2019\n",
    "    replace cpi_factor= 251.107/ 304.702 if year==2018\n",
    "    replace cpi_factor= 245.120/ 304.702 if year==2017\n",
    "    replace cpi_factor= 240.007/ 304.702 if year==2016\n",
    "    replace cpi_factor= 237.017/ 304.702 if year==2015\n",
    "    replace cpi_factor= 236.736/ 304.702 if year==2014\n",
    "    replace cpi_factor= 232.957/ 304.702 if year==2013\n",
    "    replace cpi_factor= 229.594/ 304.702 if year==2012\n",
    "    replace cpi_factor= 224.939/ 304.702 if year==2011\n",
    "    replace cpi_factor= 218.056/ 304.702 if year==2010\n",
    "    replace cpi_factor= 214.537/ 304.702 if year==2009\n",
    "    replace cpi_factor= 215.303/ 304.702 if year==2008\n",
    "    replace cpi_factor= 207.342/ 304.702 if year==2007\n",
    "}"
   ]
  },
  {
   "cell_type": "code",
   "execution_count": 10,
   "id": "c689e27f-b254-45f3-9e7f-8f242d0428b0",
   "metadata": {},
   "outputs": [
    {
     "name": "stdout",
     "output_type": "stream",
     "text": [
      "(16 real changes made)\n"
     ]
    }
   ],
   "source": [
    "replace outstanding_b =outstanding_b / cpi_factor"
   ]
  },
  {
   "cell_type": "code",
   "execution_count": 11,
   "id": "2c293395-c670-46fd-b2bc-241245815359",
   "metadata": {},
   "outputs": [],
   "source": [
    "gen outstanding_t=outstanding_b / 1000"
   ]
  },
  {
   "cell_type": "code",
   "execution_count": 12,
   "id": "16988753-751a-4da2-8842-0c7f37cfa404",
   "metadata": {},
   "outputs": [
    {
     "data": {
      "image/png": "[encoded data removed]",
      "text/plain": [
       "<IPython.core.display.Image object>"
      ]
     },
     "metadata": {},
     "output_type": "display_data"
    }
   ],
   "source": [
    "tw connect outstanding_t year, scheme(538w) ytitle(outstanding debt in trillions (2023$)) ///\n",
    "    scale(1.4) xtitle(\"\") ///\n",
    "    title(\"Figure 1: Outstanding Federal Student Debt in trillions (2023$)\" \" \", span)"
   ]
  },
  {
   "cell_type": "code",
   "execution_count": 13,
   "id": "07ac9c42-d7e9-43cc-98cc-53c2bdfd5690",
   "metadata": {},
   "outputs": [
    {
     "name": "stdout",
     "output_type": "stream",
     "text": [
      "file figures/f1_outstanding_debt_2007_present.pdf saved as PDF format\n"
     ]
    }
   ],
   "source": [
    "graph export figures/f1_outstanding_debt_2007_present.pdf, replace"
   ]
  },
  {
   "cell_type": "code",
   "execution_count": 14,
   "id": "d49b2102-431b-4a2a-9968-ac74720e746c",
   "metadata": {},
   "outputs": [
    {
     "name": "stdout",
     "output_type": "stream",
     "text": [
      "(file figures/f1_outstanding_debt_2007_present.png not found)\n",
      "file figures/f1_outstanding_debt_2007_present.png written in PNG format\n"
     ]
    }
   ],
   "source": [
    "graph export figures/f1_outstanding_debt_2007_present.png, replace"
   ]
  },
  {
   "cell_type": "code",
   "execution_count": 15,
   "id": "8968f8cd-235f-4676-984e-545fefe9e464",
   "metadata": {},
   "outputs": [
    {
     "name": "stdout",
     "output_type": "stream",
     "text": [
      "\n",
      "    year   outsta~t  \n",
      "    2007   .7582942  \n",
      "    2008   .8165843  \n",
      "    2009   .9331221  \n",
      "    2010   1.047738  \n",
      "    2011    1.14897  \n",
      "    2012   1.258388  \n",
      "    2013   1.360556  \n",
      "    2014   1.454161  \n",
      "    2015   1.558625  \n",
      "    2016   1.640518  \n",
      "    2017   1.699156  \n",
      "    2018   1.746376  \n",
      "    2019   1.800035  \n",
      "    2020   1.844028  \n",
      "    2021    1.81121  \n",
      "    2022   1.701783  \n",
      "    2023   1.602197  \n"
     ]
    }
   ],
   "source": [
    "list year outstanding_t, noobs clean"
   ]
  },
  {
   "cell_type": "code",
   "execution_count": null,
   "id": "490c2f11-d754-4fde-8510-be382108ad35",
   "metadata": {},
   "outputs": [],
   "source": []
  }
 ],
 "metadata": {
  "kernelspec": {
   "display_name": "Stata (nbstata)",
   "language": "stata",
   "name": "nbstata"
  },
  "language_info": {
   "file_extension": ".do",
   "mimetype": "text/x-stata",
   "name": "stata",
   "version": "17"
  }
 },
 "nbformat": 4,
 "nbformat_minor": 5
}
